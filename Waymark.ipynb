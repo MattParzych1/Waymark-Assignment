{
 "cells": [
  {
   "cell_type": "markdown",
   "id": "f68ed618",
   "metadata": {},
   "source": [
    "<b>Author:</b> Matthew Parzych<br>\n",
    "<b>Email:</b> mattparzych1@gmail.com<br>\n",
    "<b>Mobile:</b> 415.680.8678<br>\n",
    "<b>Date:</b> 03/15/2024<br>\n",
    "<p>\n",
    "This is my take on the Waymark take home assignment.\n",
    "<p>\n",
    "I've got 2 primary goals at the start of this assignment:<br>\n",
    "1) Accuracy (hopefully, both answers are correct), and<br>\n",
    "2) <b>No use of any 'For Loops' in the code.</b><br>\n",
    "Use of For Loops is not scalable as dataset sizes grow and<br>\n",
    "is generally frowned upon :("
   ]
  },
  {
   "cell_type": "code",
   "execution_count": 1,
   "id": "4cc0d3fe",
   "metadata": {},
   "outputs": [],
   "source": [
    "# Import the necessary libraries\n",
    "import pandas as pd\n",
    "# The boto3 library makes downloading files from AWS S3 very simple\n",
    "import boto3"
   ]
  },
  {
   "cell_type": "markdown",
   "id": "1430e28e",
   "metadata": {},
   "source": [
    "Import the datasets from Waymark's public S3 bucket"
   ]
  },
  {
   "cell_type": "code",
   "execution_count": 2,
   "id": "ac4be949",
   "metadata": {},
   "outputs": [
    {
     "name": "stdout",
     "output_type": "stream",
     "text": [
      "Done loading S3 datasets\n"
     ]
    }
   ],
   "source": [
    "resource = boto3.resource('s3', aws_access_key_id='AKIA...............TXT',\n",
    "            aws_secret_access_key='bWGKTChCrTEJU...............GP7VoAc')\n",
    "waymark_s3_bucket = resource.Bucket('waymark-assignment')\n",
    "waymark_s3_bucket.download_file('patient_id_month_year.csv', \n",
    "                                'patient_id_month_year.csv')\n",
    "waymark_s3_bucket.download_file('outpatient_visits_file.csv', \n",
    "                                'outpatient_visits_file.csv')\n",
    "print('Done loading S3 datasets')"
   ]
  },
  {
   "cell_type": "markdown",
   "id": "5779f59d",
   "metadata": {},
   "source": [
    "Load the 'patient_id_month_year.csv' file.<br>\n",
    "Drop any empty columns and rows.<br>\n",
    "Convert date strings to datetime formatted columns.<br>\n",
    "Save a copy (per the assigment instructions) that I'll load again in Step 2."
   ]
  },
  {
   "cell_type": "code",
   "execution_count": 3,
   "id": "a08c6d6a",
   "metadata": {},
   "outputs": [
    {
     "data": {
      "text/html": [
       "<div>\n",
       "<style scoped>\n",
       "    .dataframe tbody tr th:only-of-type {\n",
       "        vertical-align: middle;\n",
       "    }\n",
       "\n",
       "    .dataframe tbody tr th {\n",
       "        vertical-align: top;\n",
       "    }\n",
       "\n",
       "    .dataframe thead th {\n",
       "        text-align: right;\n",
       "    }\n",
       "</style>\n",
       "<table border=\"1\" class=\"dataframe\">\n",
       "  <thead>\n",
       "    <tr style=\"text-align: right;\">\n",
       "      <th></th>\n",
       "      <th>patient_id</th>\n",
       "      <th>enrollment_start_date</th>\n",
       "      <th>enrollment_end_date</th>\n",
       "    </tr>\n",
       "  </thead>\n",
       "  <tbody>\n",
       "    <tr>\n",
       "      <th>0</th>\n",
       "      <td>ID0001</td>\n",
       "      <td>2023-01-01</td>\n",
       "      <td>2023-01-31</td>\n",
       "    </tr>\n",
       "    <tr>\n",
       "      <th>1</th>\n",
       "      <td>ID0001</td>\n",
       "      <td>2023-02-01</td>\n",
       "      <td>2023-02-28</td>\n",
       "    </tr>\n",
       "    <tr>\n",
       "      <th>2</th>\n",
       "      <td>ID0001</td>\n",
       "      <td>2023-03-01</td>\n",
       "      <td>2023-03-31</td>\n",
       "    </tr>\n",
       "    <tr>\n",
       "      <th>3</th>\n",
       "      <td>ID0001</td>\n",
       "      <td>2023-06-01</td>\n",
       "      <td>2023-06-30</td>\n",
       "    </tr>\n",
       "    <tr>\n",
       "      <th>4</th>\n",
       "      <td>ID0001</td>\n",
       "      <td>2023-08-01</td>\n",
       "      <td>2023-08-31</td>\n",
       "    </tr>\n",
       "  </tbody>\n",
       "</table>\n",
       "</div>"
      ],
      "text/plain": [
       "  patient_id enrollment_start_date enrollment_end_date\n",
       "0     ID0001            2023-01-01          2023-01-31\n",
       "1     ID0001            2023-02-01          2023-02-28\n",
       "2     ID0001            2023-03-01          2023-03-31\n",
       "3     ID0001            2023-06-01          2023-06-30\n",
       "4     ID0001            2023-08-01          2023-08-31"
      ]
     },
     "execution_count": 3,
     "metadata": {},
     "output_type": "execute_result"
    }
   ],
   "source": [
    "col_defns = {\n",
    "    'patient_id': str,\n",
    "    'enrollment_start_date': str,\n",
    "    'enrollment_end_date': str\n",
    "}\n",
    "df = pd.read_csv('patient_id_month_year.csv', names=col_defns, \n",
    "                 dtype=col_defns, skiprows=[0])\n",
    "# No extraneous columns exist, but lots of empty rows (drop them)\n",
    "df.dropna(axis=0, how='all', inplace=True)\n",
    "# convert the string dates to datetime format\n",
    "df['enrollment_start_date'] = pd.to_datetime(df['enrollment_start_date'],\n",
    "                                             format='%m/%d/%y')\n",
    "# Create an additional column (enrollment_end_date) - \n",
    "# the last day of the enrollment month\n",
    "df['enrollment_end_date']=df['enrollment_start_date']+pd.offsets.MonthEnd(0)\n",
    "# save a copy of the dataframe to the file name\n",
    "#indicated in the instruction\n",
    "# this file will be imported near the end\n",
    "df.to_csv('patient_enrollment_span.csv', index=False)\n",
    "df.head(5)"
   ]
  },
  {
   "cell_type": "code",
   "execution_count": 4,
   "id": "54e3468e",
   "metadata": {},
   "outputs": [
    {
     "name": "stdout",
     "output_type": "stream",
     "text": [
      "ANSWER 1: 7309 (rows of data)\n",
      "7310 (rows, including header)\n"
     ]
    }
   ],
   "source": [
    "print(\"ANSWER 1: \" + str(len(df)) + \" (rows of data)\")\n",
    "print(str(len(df) + 1) + \" (rows, including header)\")"
   ]
  },
  {
   "cell_type": "code",
   "execution_count": 5,
   "id": "d9ad4892",
   "metadata": {},
   "outputs": [
    {
     "data": {
      "text/plain": [
       "(7309, 3)"
      ]
     },
     "execution_count": 5,
     "metadata": {},
     "output_type": "execute_result"
    }
   ],
   "source": [
    "df.shape # Sanity check"
   ]
  },
  {
   "cell_type": "code",
   "execution_count": 6,
   "id": "9a039e8a",
   "metadata": {},
   "outputs": [
    {
     "data": {
      "text/plain": [
       "patient_id  enrollment_start_date  enrollment_end_date\n",
       "ID0001      2023-01-01             2023-01-31             1\n",
       "            2023-02-01             2023-02-28             1\n",
       "            2023-03-01             2023-03-31             1\n",
       "            2023-06-01             2023-06-30             1\n",
       "            2023-08-01             2023-08-31             1\n",
       "                                                         ..\n",
       "ID1000      2023-02-01             2023-02-28             1\n",
       "            2023-05-01             2023-05-31             1\n",
       "            2023-07-01             2023-07-31             1\n",
       "            2023-10-01             2023-10-31             1\n",
       "            2023-11-01             2023-11-30             1\n",
       "Length: 7309, dtype: int64"
      ]
     },
     "execution_count": 6,
     "metadata": {},
     "output_type": "execute_result"
    }
   ],
   "source": [
    "# check for any duplicates in the dataset.\n",
    "# The length should be the same (if no duplicates) after the groupby.\n",
    "n1_unique_combinations = df.groupby(['patient_id', \n",
    "                                     'enrollment_start_date',\n",
    "                                     'enrollment_end_date']).size()\n",
    "# Another data sanity check - \n",
    "# there should also be 7309 rows in the grouped dataframe\n",
    "n1_unique_combinations"
   ]
  },
  {
   "cell_type": "markdown",
   "id": "a44d4972",
   "metadata": {},
   "source": [
    "Build up a data structure where 'patient_id' is the key,<br>\n",
    "and a list of lists of the associated enrollment date ranges."
   ]
  },
  {
   "cell_type": "code",
   "execution_count": 7,
   "id": "8ffc617d",
   "metadata": {},
   "outputs": [
    {
     "data": {
      "text/plain": [
       "patient_id\n",
       "ID0001    [[2023-01-01 00:00:00, 2023-01-31 00:00:00], [...\n",
       "ID0002    [[2023-02-01 00:00:00, 2023-02-28 00:00:00], [...\n",
       "ID0003    [[2023-03-01 00:00:00, 2023-03-31 00:00:00], [...\n",
       "ID0004    [[2023-01-01 00:00:00, 2023-01-31 00:00:00], [...\n",
       "ID0005    [[2023-01-01 00:00:00, 2023-01-31 00:00:00], [...\n",
       "dtype: object"
      ]
     },
     "execution_count": 7,
     "metadata": {},
     "output_type": "execute_result"
    }
   ],
   "source": [
    "# Apply a lambda function to each row of the passed in dataframe.\n",
    "# Exclude the patient_id -- that's the key field.\n",
    "def createEnrollmentDateRangeList(df):\n",
    "    df = df.loc[:, df.columns != 'patient_id']\n",
    "    return df.apply(lambda row: list(row), axis=1).to_list()\n",
    "    \n",
    "enrollmentsDF = df.groupby('patient_id').apply(createEnrollmentDateRangeList)\n",
    "enrollmentsDF.head(5)"
   ]
  },
  {
   "cell_type": "markdown",
   "id": "425035e6",
   "metadata": {},
   "source": [
    "Read in the outpatient_visits_file - remove any extraneous columns and rows.<br>\n",
    "Convert 'date' column values to date time format for accurate comparisons.<br>\n",
    "Convert outpatient_visit_count from string to int."
   ]
  },
  {
   "cell_type": "code",
   "execution_count": 8,
   "id": "0d191f8b",
   "metadata": {},
   "outputs": [
    {
     "data": {
      "text/html": [
       "<div>\n",
       "<style scoped>\n",
       "    .dataframe tbody tr th:only-of-type {\n",
       "        vertical-align: middle;\n",
       "    }\n",
       "\n",
       "    .dataframe tbody tr th {\n",
       "        vertical-align: top;\n",
       "    }\n",
       "\n",
       "    .dataframe thead th {\n",
       "        text-align: right;\n",
       "    }\n",
       "</style>\n",
       "<table border=\"1\" class=\"dataframe\">\n",
       "  <thead>\n",
       "    <tr style=\"text-align: right;\">\n",
       "      <th></th>\n",
       "      <th>patient_id</th>\n",
       "      <th>date</th>\n",
       "      <th>outpatient_visit_count</th>\n",
       "    </tr>\n",
       "  </thead>\n",
       "  <tbody>\n",
       "    <tr>\n",
       "      <th>0</th>\n",
       "      <td>ID0001</td>\n",
       "      <td>2023-01-03</td>\n",
       "      <td>2</td>\n",
       "    </tr>\n",
       "    <tr>\n",
       "      <th>1</th>\n",
       "      <td>ID0001</td>\n",
       "      <td>2023-01-08</td>\n",
       "      <td>2</td>\n",
       "    </tr>\n",
       "    <tr>\n",
       "      <th>2</th>\n",
       "      <td>ID0001</td>\n",
       "      <td>2023-01-09</td>\n",
       "      <td>2</td>\n",
       "    </tr>\n",
       "    <tr>\n",
       "      <th>3</th>\n",
       "      <td>ID0001</td>\n",
       "      <td>2023-01-15</td>\n",
       "      <td>2</td>\n",
       "    </tr>\n",
       "    <tr>\n",
       "      <th>4</th>\n",
       "      <td>ID0001</td>\n",
       "      <td>2023-01-21</td>\n",
       "      <td>4</td>\n",
       "    </tr>\n",
       "  </tbody>\n",
       "</table>\n",
       "</div>"
      ],
      "text/plain": [
       "  patient_id       date  outpatient_visit_count\n",
       "0     ID0001 2023-01-03                       2\n",
       "1     ID0001 2023-01-08                       2\n",
       "2     ID0001 2023-01-09                       2\n",
       "3     ID0001 2023-01-15                       2\n",
       "4     ID0001 2023-01-21                       4"
      ]
     },
     "execution_count": 8,
     "metadata": {},
     "output_type": "execute_result"
    }
   ],
   "source": [
    "# This is Step 2, Part 1 of the assignment\n",
    "df2 = pd.read_csv('outpatient_visits_file.csv', dtype=str)\n",
    "df2.dropna(axis=0, how='all', inplace=True)\n",
    "df2.dropna(axis=1, how='all', inplace=True)\n",
    "df2['date'] = pd.to_datetime(df2['date'], format='%m/%d/%y')\n",
    "df2['outpatient_visit_count'] = df2['outpatient_visit_count'].astype(int)\n",
    "df2.head(5)"
   ]
  },
  {
   "cell_type": "markdown",
   "id": "99ca9ee2",
   "metadata": {},
   "source": [
    "Determine if there are any days (for a given patient_id) with multiple visits records.<br>\n",
    "<b>*** IMPORTANT STEP ***</b> I want to consolidate them all here so they don't negatively affect the<br>\n",
    "'ct_days_with_outpatient_visit' calculations done later.<br>\n",
    "I do this by aggregating them and summing their 'outpatient_visit_count' values."
   ]
  },
  {
   "cell_type": "code",
   "execution_count": 9,
   "id": "d6b419d4",
   "metadata": {},
   "outputs": [
    {
     "data": {
      "text/plain": [
       "(15328, 3)"
      ]
     },
     "execution_count": 9,
     "metadata": {},
     "output_type": "execute_result"
    }
   ],
   "source": [
    "df2.shape"
   ]
  },
  {
   "cell_type": "code",
   "execution_count": 10,
   "id": "65df9522",
   "metadata": {},
   "outputs": [
    {
     "data": {
      "text/plain": [
       "patient_id  date      \n",
       "ID0001      2023-01-03    1\n",
       "            2023-01-08    1\n",
       "            2023-01-09    1\n",
       "            2023-01-15    1\n",
       "            2023-01-21    1\n",
       "                         ..\n",
       "ID0980      2023-07-26    1\n",
       "            2023-09-28    1\n",
       "            2023-10-20    1\n",
       "            2023-11-25    1\n",
       "            2023-12-16    1\n",
       "Length: 14877, dtype: int64"
      ]
     },
     "execution_count": 10,
     "metadata": {},
     "output_type": "execute_result"
    }
   ],
   "source": [
    "n2_unique_combinations = df2.groupby(['patient_id', 'date']).size()\n",
    "n2_unique_combinations"
   ]
  },
  {
   "cell_type": "markdown",
   "id": "d1a08336",
   "metadata": {},
   "source": [
    "Turns out there are some duplicated days (for a given patient_id) - aggregate and sum those values."
   ]
  },
  {
   "cell_type": "code",
   "execution_count": 11,
   "id": "6169bbf0",
   "metadata": {},
   "outputs": [
    {
     "data": {
      "text/plain": [
       "(14877, 3)"
      ]
     },
     "execution_count": 11,
     "metadata": {},
     "output_type": "execute_result"
    }
   ],
   "source": [
    "df2 = df2.groupby(['patient_id', 'date'], as_index=False).agg(\n",
    "    {'patient_id': 'first', 'date': 'first', \n",
    "     'outpatient_visit_count': 'sum'}\n",
    ")\n",
    "df2.shape"
   ]
  },
  {
   "cell_type": "markdown",
   "id": "f38802ab",
   "metadata": {},
   "source": [
    "Now, with the duplicates patient_id::date values consolidated,<br>\n",
    "we can safely build up a second data structure.<p>\n",
    "This one also has patient_id as the key, but the associated list of lists<br>\n",
    "contain the date and number of visits for that particular date."
   ]
  },
  {
   "cell_type": "code",
   "execution_count": 12,
   "id": "959e5940",
   "metadata": {},
   "outputs": [
    {
     "data": {
      "text/plain": [
       "patient_id\n",
       "ID0001    [[2023-01-03 00:00:00, 2], [2023-01-08 00:00:0...\n",
       "ID0002    [[2023-01-15 00:00:00, 1], [2023-02-08 00:00:0...\n",
       "ID0003    [[2023-01-08 00:00:00, 3], [2023-03-25 00:00:0...\n",
       "ID0004    [[2023-01-27 00:00:00, 10], [2023-02-06 00:00:...\n",
       "ID0005    [[2023-01-17 00:00:00, 3], [2023-01-31 00:00:0...\n",
       "dtype: object"
      ]
     },
     "execution_count": 12,
     "metadata": {},
     "output_type": "execute_result"
    }
   ],
   "source": [
    "# Apply a lambda function to each row of the passed in dataframe.\n",
    "# Exclude the patient_id -- that's the key field.\n",
    "def createVisitDateQuantityList(df):\n",
    "    df = df.loc[:, df.columns != 'patient_id']\n",
    "    return df.apply(lambda row: list(row), axis=1).to_list()\n",
    "\n",
    "visitsDF = df2.groupby('patient_id').apply(createVisitDateQuantityList)\n",
    "visitsDF.head(5)"
   ]
  },
  {
   "cell_type": "markdown",
   "id": "2beecf2f",
   "metadata": {},
   "source": [
    "The following 2 functions support Step 2 part 2."
   ]
  },
  {
   "cell_type": "code",
   "execution_count": 13,
   "id": "f7fe1ded",
   "metadata": {},
   "outputs": [],
   "source": [
    "# 'iterate' determines which, if any, enrollment\n",
    "# date ranges contain the visit date.\n",
    "# When there's a match, it should always be a single date range\n",
    "# (but I return a list, just in case).\n",
    "# The matching date range is returned as output from the filter.\n",
    "def iterate(lst, indx, end, id, dtRanges):\n",
    "    # Recursion completed? If so, return.\n",
    "    if indx < 0 or end >= len(lst) or indx > end:\n",
    "        return\n",
    "    # Otherwise, pull date date and number of visits from the list (lst)\n",
    "    visitDt = lst[indx][0]\n",
    "    numVisits = lst[indx][1]\n",
    "    # Use filter and a lambda function here - to avoid use of For Loops\n",
    "    match = list(filter(lambda x: x[0] <= visitDt and\n",
    "                        x[1] >= visitDt, dtRanges))\n",
    "    if (match) and (len(match)==1): # if a match exists,... \n",
    "        # ... there should only be 1 date range that matches\n",
    "        # Increase the number of ct_outpatient_visits\n",
    "        # for the matching enrollment period. \n",
    "        finalDF.loc[(finalDF.patient_id == id) &\n",
    "                    (finalDF.enrollment_start_date == match[0][0]),\n",
    "                    'ct_outpatient_visits'] += numVisits\n",
    "        # Increment the number of ct_days_with_outpatient_visit\n",
    "        # for the matching enrollment period.\n",
    "        # This would have caused a problem if we didn't aggregate (sum up)\n",
    "        # duplicate patient_id::date earlier\n",
    "        finalDF.loc[(finalDF.patient_id == id) &\n",
    "                    (finalDF.enrollment_start_date == match[0][0]),\n",
    "                    'ct_days_with_outpatient_visit'] += 1\n",
    "    # Otherwise, the visit didn't coincide with any enrollment periods. \n",
    "    # Make a note to figure out how these erroneous records get created.\n",
    "    iterate(lst, indx + 1, end, id, dtRanges)\n",
    "\n",
    "# 'populateVisitCounts' extract the patient_id, then gets the associated\n",
    "# enrollment date ranges and visits for that patient_id\n",
    "def populateVisitCounts(df):\n",
    "    idUnderTest = df.iloc[0]['patient_id']\n",
    "    dateRanges = enrollmentsDF[idUnderTest]\n",
    "    visits = visitsDF[idUnderTest]\n",
    "    lstLen = len(visits) - 1 # count starts with 0\n",
    "    # Use recursion here to avoid using a 'For Loop'\n",
    "    # Identify which, if any, enrollment date ranges this visit is in...\n",
    "    iterate(visits, 0, lstLen, idUnderTest, dateRanges)"
   ]
  },
  {
   "cell_type": "markdown",
   "id": "7c656805",
   "metadata": {},
   "source": [
    "This is Step 2 Part 2 of the assigment. We read in the csv file created in Step 1.<br>\n",
    "<i>The assigment instructions wanted this - but it doesn't seem necessary.</i>"
   ]
  },
  {
   "cell_type": "code",
   "execution_count": 14,
   "id": "b40da303",
   "metadata": {},
   "outputs": [
    {
     "data": {
      "text/html": [
       "<div>\n",
       "<style scoped>\n",
       "    .dataframe tbody tr th:only-of-type {\n",
       "        vertical-align: middle;\n",
       "    }\n",
       "\n",
       "    .dataframe tbody tr th {\n",
       "        vertical-align: top;\n",
       "    }\n",
       "\n",
       "    .dataframe thead th {\n",
       "        text-align: right;\n",
       "    }\n",
       "</style>\n",
       "<table border=\"1\" class=\"dataframe\">\n",
       "  <thead>\n",
       "    <tr style=\"text-align: right;\">\n",
       "      <th></th>\n",
       "      <th>patient_id</th>\n",
       "      <th>enrollment_start_date</th>\n",
       "      <th>enrollment_end_date</th>\n",
       "      <th>ct_outpatient_visits</th>\n",
       "      <th>ct_days_with_outpatient_visit</th>\n",
       "    </tr>\n",
       "  </thead>\n",
       "  <tbody>\n",
       "    <tr>\n",
       "      <th>0</th>\n",
       "      <td>ID0001</td>\n",
       "      <td>2023-01-01</td>\n",
       "      <td>2023-01-31</td>\n",
       "      <td>0</td>\n",
       "      <td>0</td>\n",
       "    </tr>\n",
       "    <tr>\n",
       "      <th>1</th>\n",
       "      <td>ID0001</td>\n",
       "      <td>2023-02-01</td>\n",
       "      <td>2023-02-28</td>\n",
       "      <td>0</td>\n",
       "      <td>0</td>\n",
       "    </tr>\n",
       "    <tr>\n",
       "      <th>2</th>\n",
       "      <td>ID0001</td>\n",
       "      <td>2023-03-01</td>\n",
       "      <td>2023-03-31</td>\n",
       "      <td>0</td>\n",
       "      <td>0</td>\n",
       "    </tr>\n",
       "    <tr>\n",
       "      <th>3</th>\n",
       "      <td>ID0001</td>\n",
       "      <td>2023-06-01</td>\n",
       "      <td>2023-06-30</td>\n",
       "      <td>0</td>\n",
       "      <td>0</td>\n",
       "    </tr>\n",
       "    <tr>\n",
       "      <th>4</th>\n",
       "      <td>ID0001</td>\n",
       "      <td>2023-08-01</td>\n",
       "      <td>2023-08-31</td>\n",
       "      <td>0</td>\n",
       "      <td>0</td>\n",
       "    </tr>\n",
       "  </tbody>\n",
       "</table>\n",
       "</div>"
      ],
      "text/plain": [
       "  patient_id enrollment_start_date enrollment_end_date  ct_outpatient_visits  \\\n",
       "0     ID0001            2023-01-01          2023-01-31                     0   \n",
       "1     ID0001            2023-02-01          2023-02-28                     0   \n",
       "2     ID0001            2023-03-01          2023-03-31                     0   \n",
       "3     ID0001            2023-06-01          2023-06-30                     0   \n",
       "4     ID0001            2023-08-01          2023-08-31                     0   \n",
       "\n",
       "   ct_days_with_outpatient_visit  \n",
       "0                              0  \n",
       "1                              0  \n",
       "2                              0  \n",
       "3                              0  \n",
       "4                              0  "
      ]
     },
     "execution_count": 14,
     "metadata": {},
     "output_type": "execute_result"
    }
   ],
   "source": [
    "finalDF = pd.read_csv('patient_enrollment_span.csv',\n",
    "                      names=col_defns,\n",
    "                      dtype=col_defns,\n",
    "                      skiprows=[0])\n",
    "finalDF['enrollment_start_date'] = pd.to_datetime(\n",
    "    finalDF['enrollment_start_date'])\n",
    "finalDF['enrollment_end_date'] = pd.to_datetime(\n",
    "    finalDF['enrollment_end_date'])\n",
    "# Add the 2 additional columns calle for by the assignment\n",
    "# instructions and initialize the values to zero.\n",
    "finalDF['ct_outpatient_visits'] = 0\n",
    "finalDF['ct_days_with_outpatient_visit'] = 0\n",
    "finalDF.head(5)"
   ]
  },
  {
   "cell_type": "markdown",
   "id": "1309f636",
   "metadata": {},
   "source": [
    "Now we have the data loaded, the data structures built and populated - it's time<br>\n",
    "to do the calculations of ct_outpatient_visits and ct_days_with_outpatient_visit<br>\n",
    "for all the patient_ids and their associated visit dates."
   ]
  },
  {
   "cell_type": "code",
   "execution_count": 15,
   "id": "f8d4df42",
   "metadata": {},
   "outputs": [
    {
     "data": {
      "text/html": [
       "<div>\n",
       "<style scoped>\n",
       "    .dataframe tbody tr th:only-of-type {\n",
       "        vertical-align: middle;\n",
       "    }\n",
       "\n",
       "    .dataframe tbody tr th {\n",
       "        vertical-align: top;\n",
       "    }\n",
       "\n",
       "    .dataframe thead th {\n",
       "        text-align: right;\n",
       "    }\n",
       "</style>\n",
       "<table border=\"1\" class=\"dataframe\">\n",
       "  <thead>\n",
       "    <tr style=\"text-align: right;\">\n",
       "      <th></th>\n",
       "      <th>patient_id</th>\n",
       "      <th>enrollment_start_date</th>\n",
       "      <th>enrollment_end_date</th>\n",
       "      <th>ct_outpatient_visits</th>\n",
       "      <th>ct_days_with_outpatient_visit</th>\n",
       "    </tr>\n",
       "  </thead>\n",
       "  <tbody>\n",
       "    <tr>\n",
       "      <th>0</th>\n",
       "      <td>ID0001</td>\n",
       "      <td>2023-01-01</td>\n",
       "      <td>2023-01-31</td>\n",
       "      <td>13</td>\n",
       "      <td>6</td>\n",
       "    </tr>\n",
       "    <tr>\n",
       "      <th>1</th>\n",
       "      <td>ID0001</td>\n",
       "      <td>2023-02-01</td>\n",
       "      <td>2023-02-28</td>\n",
       "      <td>0</td>\n",
       "      <td>0</td>\n",
       "    </tr>\n",
       "    <tr>\n",
       "      <th>2</th>\n",
       "      <td>ID0001</td>\n",
       "      <td>2023-03-01</td>\n",
       "      <td>2023-03-31</td>\n",
       "      <td>4</td>\n",
       "      <td>2</td>\n",
       "    </tr>\n",
       "    <tr>\n",
       "      <th>3</th>\n",
       "      <td>ID0001</td>\n",
       "      <td>2023-06-01</td>\n",
       "      <td>2023-06-30</td>\n",
       "      <td>6</td>\n",
       "      <td>2</td>\n",
       "    </tr>\n",
       "    <tr>\n",
       "      <th>4</th>\n",
       "      <td>ID0001</td>\n",
       "      <td>2023-08-01</td>\n",
       "      <td>2023-08-31</td>\n",
       "      <td>6</td>\n",
       "      <td>2</td>\n",
       "    </tr>\n",
       "  </tbody>\n",
       "</table>\n",
       "</div>"
      ],
      "text/plain": [
       "  patient_id enrollment_start_date enrollment_end_date  ct_outpatient_visits  \\\n",
       "0     ID0001            2023-01-01          2023-01-31                    13   \n",
       "1     ID0001            2023-02-01          2023-02-28                     0   \n",
       "2     ID0001            2023-03-01          2023-03-31                     4   \n",
       "3     ID0001            2023-06-01          2023-06-30                     6   \n",
       "4     ID0001            2023-08-01          2023-08-31                     6   \n",
       "\n",
       "   ct_days_with_outpatient_visit  \n",
       "0                              6  \n",
       "1                              0  \n",
       "2                              2  \n",
       "3                              2  \n",
       "4                              2  "
      ]
     },
     "execution_count": 15,
     "metadata": {},
     "output_type": "execute_result"
    }
   ],
   "source": [
    "# using visitsDF because not all enrollment periods have visits\n",
    "uuids = visitsDF.reset_index()\n",
    "uuids.groupby('patient_id').apply(lambda x: populateVisitCounts(x))\n",
    "finalDF.head(5)"
   ]
  },
  {
   "cell_type": "code",
   "execution_count": 16,
   "id": "66b996b0",
   "metadata": {},
   "outputs": [],
   "source": [
    "# Step 2, Part 3 -- save the results \n",
    "finalDF.to_csv('result.csv', index=False)"
   ]
  },
  {
   "cell_type": "code",
   "execution_count": 17,
   "id": "80455010",
   "metadata": {},
   "outputs": [
    {
     "name": "stdout",
     "output_type": "stream",
     "text": [
      "ANSWER 2: There are 9 distinct values of ct_days_with_outpatient_visits\n",
      "(across all patient_ids).\n"
     ]
    }
   ],
   "source": [
    "num_unique_values = pd.unique(finalDF[\"ct_days_with_outpatient_visit\"])\n",
    "#print(num_unique_values)\n",
    "# print the number of unique values\n",
    "print(\"ANSWER 2: There are \" + str(len(num_unique_values)) +\n",
    "      \" distinct values of ct_days_with_outpatient_visits\")\n",
    "print(\"(across all patient_ids).\")"
   ]
  }
 ],
 "metadata": {
  "kernelspec": {
   "display_name": "Python 3",
   "language": "python",
   "name": "python3"
  },
  "language_info": {
   "codemirror_mode": {
    "name": "ipython",
    "version": 3
   },
   "file_extension": ".py",
   "mimetype": "text/x-python",
   "name": "python",
   "nbconvert_exporter": "python",
   "pygments_lexer": "ipython3",
   "version": "3.9.13"
  }
 },
 "nbformat": 4,
 "nbformat_minor": 5
}
